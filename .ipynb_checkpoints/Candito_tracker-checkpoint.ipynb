{
 "cells": [
  {
   "cell_type": "code",
   "execution_count": 8,
   "metadata": {},
   "outputs": [
    {
     "name": "stdout",
     "output_type": "stream",
     "text": [
      "RPE? 8\n"
     ]
    }
   ],
   "source": [
    "orms = {}\n",
    "working_sets = {}\n",
    "atts = {}\n",
    "days = 0\n",
    "\n",
    "def get_lift_info(lift_name):\n",
    "    orms[lift_name] = int(input(lift_name + \" one rep max? \"))\n",
    "\n",
    "#working set = 75% of orm\n",
    "def get_working_sets(orms):\n",
    "    nonlocal working_sets\n",
    "    for i in orms:\n",
    "        print(i, orms[i] * 0.75)\n",
    "        working_sets[i] = orms[i] * 0.75\n",
    "\n",
    "def get_rpe():\n",
    "    return int(input(\"RPE for this set? \"))\n",
    "\n",
    "def get_init_info():\n",
    "    atts['age'] = int(input(\"What is your age?\"))\n",
    "    atts['weight'] = int(input(\"What is your weight? \"))\n",
    "    atts['height'] = raw_input(\"What is your height? \")\n",
    "\n",
    "def update_weight():\n",
    "    atts['weight'] = int(input(\"What is your weight? \"))\n",
    "    \n",
    "def update_age():\n",
    "    atts['age'] = int(input(\"What is your age? \"))\n",
    "\n",
    "def completed_set(lift_name):\n",
    "    user_input = raw_input(\"Did you complete this\" + lift_name + \" set? \")\n",
    "    if user_input == 'n':\n",
    "        print(\"Better luck next time!\") #no change to working sets\n",
    "    elif user_input == 'y':\n",
    "        rpe = get_rpe()\n",
    "        if 'bench' or 'incline' or 'squat' or 'dl' or 'dead' or \\\n",
    "           'upper back' or 'horizontal' or 'row' in lift_name and rpe <= 5:     \n",
    "            working_sets[lift_name] += 10\n",
    "        else:\n",
    "            working_sets[lift_name] += 5\n",
    "    else:\n",
    "        print \"Invalid response: please enter y or n.\"\n"
   ]
  },
  {
   "cell_type": "code",
   "execution_count": 26,
   "metadata": {},
   "outputs": [
    {
     "data": {
      "text/plain": [
       "int"
      ]
     },
     "execution_count": 26,
     "metadata": {},
     "output_type": "execute_result"
    }
   ],
   "source": [
    "type(1)"
   ]
  },
  {
   "cell_type": "code",
   "execution_count": null,
   "metadata": {},
   "outputs": [],
   "source": []
  },
  {
   "cell_type": "code",
   "execution_count": null,
   "metadata": {},
   "outputs": [],
   "source": []
  },
  {
   "cell_type": "code",
   "execution_count": null,
   "metadata": {},
   "outputs": [],
   "source": []
  },
  {
   "cell_type": "code",
   "execution_count": null,
   "metadata": {
    "collapsed": true
   },
   "outputs": [],
   "source": []
  }
 ],
 "metadata": {
  "kernelspec": {
   "display_name": "Python 3",
   "language": "python",
   "name": "python3"
  },
  "language_info": {
   "codemirror_mode": {
    "name": "ipython",
    "version": 3
   },
   "file_extension": ".py",
   "mimetype": "text/x-python",
   "name": "python",
   "nbconvert_exporter": "python",
   "pygments_lexer": "ipython3",
   "version": "3.6.1"
  }
 },
 "nbformat": 4,
 "nbformat_minor": 2
}
